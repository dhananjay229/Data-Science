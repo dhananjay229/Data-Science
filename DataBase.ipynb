{
 "cells": [
  {
   "cell_type": "code",
   "execution_count": 1,
   "metadata": {},
   "outputs": [],
   "source": [
    "import sqlite3"
   ]
  },
  {
   "cell_type": "code",
   "execution_count": 2,
   "metadata": {},
   "outputs": [],
   "source": [
    "import math"
   ]
  },
  {
   "cell_type": "code",
   "execution_count": 3,
   "metadata": {},
   "outputs": [
    {
     "data": {
      "text/plain": [
       "3.0"
      ]
     },
     "execution_count": 3,
     "metadata": {},
     "output_type": "execute_result"
    }
   ],
   "source": [
    "math.ceil(2.4)"
   ]
  },
  {
   "cell_type": "code",
   "execution_count": 4,
   "metadata": {},
   "outputs": [
    {
     "name": "stdout",
     "output_type": "stream",
     "text": [
      "['__doc__', '__name__', '__package__', 'acos', 'acosh', 'asin', 'asinh', 'atan', 'atan2', 'atanh', 'ceil', 'copysign', 'cos', 'cosh', 'degrees', 'e', 'erf', 'erfc', 'exp', 'expm1', 'fabs', 'factorial', 'floor', 'fmod', 'frexp', 'fsum', 'gamma', 'hypot', 'isinf', 'isnan', 'ldexp', 'lgamma', 'log', 'log10', 'log1p', 'modf', 'pi', 'pow', 'radians', 'sin', 'sinh', 'sqrt', 'tan', 'tanh', 'trunc']\n"
     ]
    }
   ],
   "source": [
    "print(dir(math))"
   ]
  },
  {
   "cell_type": "code",
   "execution_count": 5,
   "metadata": {},
   "outputs": [
    {
     "name": "stdout",
     "output_type": "stream",
     "text": [
      "write succesfully\n"
     ]
    }
   ],
   "source": [
    "try:\n",
    "    f = open('testbook','w')\n",
    "    f.write('test write this')\n",
    "except:\n",
    "    print(\"Could not find the file\")\n",
    "else:\n",
    "    print(\"write succesfully\")\n",
    "    f.close()"
   ]
  },
  {
   "cell_type": "code",
   "execution_count": 6,
   "metadata": {},
   "outputs": [
    {
     "ename": "IOError",
     "evalue": "File not open for writing",
     "output_type": "error",
     "traceback": [
      "\u001b[1;31m---------------------------------------------------------------------------\u001b[0m",
      "\u001b[1;31mIOError\u001b[0m                                   Traceback (most recent call last)",
      "\u001b[1;32m<ipython-input-6-ac122c04019f>\u001b[0m in \u001b[0;36m<module>\u001b[1;34m()\u001b[0m\n\u001b[0;32m      1\u001b[0m \u001b[0mf\u001b[0m \u001b[1;33m=\u001b[0m \u001b[0mopen\u001b[0m\u001b[1;33m(\u001b[0m\u001b[1;34m'testbook'\u001b[0m\u001b[1;33m,\u001b[0m\u001b[1;34m'r'\u001b[0m\u001b[1;33m)\u001b[0m\u001b[1;33m\u001b[0m\u001b[0m\n\u001b[1;32m----> 2\u001b[1;33m \u001b[0mf\u001b[0m\u001b[1;33m.\u001b[0m\u001b[0mwrite\u001b[0m\u001b[1;33m(\u001b[0m\u001b[1;34m\"test the file\"\u001b[0m\u001b[1;33m)\u001b[0m\u001b[1;33m\u001b[0m\u001b[0m\n\u001b[0m\u001b[0;32m      3\u001b[0m \u001b[1;32mprint\u001b[0m\u001b[1;33m(\u001b[0m\u001b[1;34m\"fdfdsfsd\"\u001b[0m\u001b[1;33m)\u001b[0m\u001b[1;33m\u001b[0m\u001b[0m\n",
      "\u001b[1;31mIOError\u001b[0m: File not open for writing"
     ]
    }
   ],
   "source": [
    "f = open('testbook','r')\n",
    "f.write(\"test the file\")\n",
    "print(\"fdfdsfsd\")"
   ]
  },
  {
   "cell_type": "code",
   "execution_count": 7,
   "metadata": {},
   "outputs": [
    {
     "name": "stdout",
     "output_type": "stream",
     "text": [
      "Could not write the file\n"
     ]
    }
   ],
   "source": [
    "try:\n",
    "    f = open('testbook','r')\n",
    "    f.write(\" Writing the file\")\n",
    "    \n",
    "except:\n",
    "    print(\"Could not write the file\")\n",
    "    \n",
    "else:\n",
    "    print(\"File not found\")\n",
    "    f.colse()"
   ]
  },
  {
   "cell_type": "code",
   "execution_count": 8,
   "metadata": {},
   "outputs": [
    {
     "name": "stdout",
     "output_type": "stream",
     "text": [
      "finaly always executable\n"
     ]
    }
   ],
   "source": [
    "try:\n",
    "    f = open('testbook','w')\n",
    "    f.write(\"Writing the file\")\n",
    "    \n",
    "finally:\n",
    "    print(\"finaly always executable\")"
   ]
  },
  {
   "cell_type": "code",
   "execution_count": 9,
   "metadata": {},
   "outputs": [
    {
     "name": "stdout",
     "output_type": "stream",
     "text": [
      "Enter the value502\n",
      "valu sucessfully intered\n",
      "502\n"
     ]
    }
   ],
   "source": [
    "def Dk():\n",
    "    \n",
    "    try:\n",
    "        val = int(input(\"Enter the value\"))\n",
    "    except:\n",
    "        print(\"enter the valid number\")\n",
    "    finally:\n",
    "        print(\"valu sucessfully intered\")\n",
    "        print(val)\n",
    "        \n",
    "Dk()"
   ]
  },
  {
   "cell_type": "code",
   "execution_count": 10,
   "metadata": {},
   "outputs": [],
   "source": [
    "def Dk():\n",
    "    \n",
    "    try:\n",
    "        val = int(input(\"Enter the number :- \"))\n",
    "    except:\n",
    "        print(\"you not inter the integer\")\n",
    "        val = int(input(\"Again enter the value :- \"))\n",
    "    finally:\n",
    "        print(\"Succesfully entered :- \")\n",
    "        print(val)"
   ]
  },
  {
   "cell_type": "code",
   "execution_count": 11,
   "metadata": {},
   "outputs": [
    {
     "name": "stdout",
     "output_type": "stream",
     "text": [
      "Enter the number :- 21\n",
      "Succesfully entered :- \n",
      "21\n"
     ]
    }
   ],
   "source": [
    "Dk()"
   ]
  },
  {
   "cell_type": "code",
   "execution_count": 12,
   "metadata": {},
   "outputs": [],
   "source": [
    "def Dk():\n",
    "    \n",
    "    while True:\n",
    "        try:\n",
    "            val = int(input(\"Enter the value :- \"))\n",
    "        except:\n",
    "            print(\"Inter a integer number\")\n",
    "            val = int(input(\"Again enter the value :- \"))\n",
    "        finally:\n",
    "            print(\"finally block executable\")\n",
    "            print(val)"
   ]
  },
  {
   "cell_type": "code",
   "execution_count": 13,
   "metadata": {},
   "outputs": [
    {
     "name": "stdout",
     "output_type": "stream",
     "text": [
      "Enter the value :- 87\n",
      "finally block executable\n",
      "87\n",
      "Enter the value :- \n",
      "Inter a integer number\n",
      "Again enter the value :- \n",
      "finally block executable\n",
      "87\n"
     ]
    },
    {
     "ename": "SyntaxError",
     "evalue": "unexpected EOF while parsing (<string>, line 0)",
     "output_type": "error",
     "traceback": [
      "\u001b[1;36m  File \u001b[1;32m\"<string>\"\u001b[1;36m, line \u001b[1;32munknown\u001b[0m\n\u001b[1;33m    \u001b[0m\n\u001b[1;37m    ^\u001b[0m\n\u001b[1;31mSyntaxError\u001b[0m\u001b[1;31m:\u001b[0m unexpected EOF while parsing\n"
     ]
    }
   ],
   "source": [
    "Dk()"
   ]
  },
  {
   "cell_type": "code",
   "execution_count": 14,
   "metadata": {},
   "outputs": [
    {
     "data": {
      "text/plain": [
       "<sqlite3.Cursor at 0x40612d0>"
      ]
     },
     "execution_count": 14,
     "metadata": {},
     "output_type": "execute_result"
    }
   ],
   "source": [
    "db = sqlite3.connect(\"my_database3.db\")\n",
    "\n",
    "db.execute(\"drop table if exists grades1\")\n",
    "\n",
    "db.execute(\"create table grades1(id int, name text, score int)\")\n",
    "\n",
    "db.execute(\"insert into grades1(id, name, score) values(101, 'Dk', 99)\")\n",
    "db.execute(\"insert into grades1(id, name, score) values(102, 'Anupam', 125)\")\n",
    "db.execute(\"insert into grades1(id, name, score) values(103, 'sujeet', 145)\")\n",
    "db.execute(\"insert into grades1(id, name, score) values(104, 'mihir', 165)\")\n",
    "\n"
   ]
  },
  {
   "cell_type": "code",
   "execution_count": 15,
   "metadata": {},
   "outputs": [],
   "source": [
    "db.commit()"
   ]
  },
  {
   "cell_type": "code",
   "execution_count": 16,
   "metadata": {},
   "outputs": [
    {
     "name": "stdout",
     "output_type": "stream",
     "text": [
      "(101, u'Dk', 99)\n",
      "(102, u'Anupam', 125)\n",
      "(103, u'sujeet', 145)\n",
      "(104, u'mihir', 165)\n",
      "------------------------------------------------------------\n"
     ]
    }
   ],
   "source": [
    "result = db.execute(\"select * from grades1 order by id\")\n",
    "for i in result:\n",
    "    print(i)\n",
    "    \n",
    "print('-'*60)"
   ]
  },
  {
   "cell_type": "code",
   "execution_count": null,
   "metadata": {},
   "outputs": [],
   "source": []
  },
  {
   "cell_type": "code",
   "execution_count": null,
   "metadata": {},
   "outputs": [],
   "source": []
  },
  {
   "cell_type": "code",
   "execution_count": null,
   "metadata": {},
   "outputs": [],
   "source": []
  },
  {
   "cell_type": "code",
   "execution_count": null,
   "metadata": {},
   "outputs": [],
   "source": []
  }
 ],
 "metadata": {
  "kernelspec": {
   "display_name": "Python 2",
   "language": "python",
   "name": "python2"
  },
  "language_info": {
   "codemirror_mode": {
    "name": "ipython",
    "version": 2
   },
   "file_extension": ".py",
   "mimetype": "text/x-python",
   "name": "python",
   "nbconvert_exporter": "python",
   "pygments_lexer": "ipython2",
   "version": "2.7.17"
  }
 },
 "nbformat": 4,
 "nbformat_minor": 2
}
